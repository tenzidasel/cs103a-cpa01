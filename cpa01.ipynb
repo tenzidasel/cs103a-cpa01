{
 "cells": [
  {
   "cell_type": "markdown",
   "id": "71014c4e-871c-42db-8c51-36a7bb9216ae",
   "metadata": {},
   "source": [
    "# Analysis for something \n"
   ]
  },
  {
   "cell_type": "markdown",
   "id": "4c460bc3-c37a-4008-8dd8-008e9a289780",
   "metadata": {},
   "source": [
    "Questions:\n",
    "* first \n",
    "* second\n",
    "\n",
    "\n"
   ]
  },
  {
   "cell_type": "code",
   "execution_count": null,
   "id": "dfad9a78-e5e9-41e8-befd-f96408feed97",
   "metadata": {},
   "outputs": [],
   "source": [
    "import csv \n",
    "import matplotlib.pyplot as plt\n"
   ]
  },
  {
   "cell_type": "code",
   "execution_count": null,
   "id": "36d44ad6-1a13-4757-8e6e-a40ec916bc24",
   "metadata": {},
   "outputs": [],
   "source": [
    "with open ('data/facebook.csv', 'r', encoding='utf-8') as csvfile:\n",
    "    reader = csv.DictReader(csvfile)\n",
    "    data = [row for row in reader]\n",
    "    csvfile.close()\n",
    "print(len(data))"
   ]
  }
 ],
 "metadata": {
  "kernelspec": {
   "display_name": "Python 3 (ipykernel)",
   "language": "python",
   "name": "python3"
  },
  "language_info": {
   "codemirror_mode": {
    "name": "ipython",
    "version": 3
   },
   "file_extension": ".py",
   "mimetype": "text/x-python",
   "name": "python",
   "nbconvert_exporter": "python",
   "pygments_lexer": "ipython3",
   "version": "3.10.0"
  }
 },
 "nbformat": 4,
 "nbformat_minor": 5
}
