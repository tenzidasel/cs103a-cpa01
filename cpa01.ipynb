{
 "cells": [
  {
   "cell_type": "markdown",
   "id": "71014c4e-871c-42db-8c51-36a7bb9216ae",
   "metadata": {},
   "source": [
    "# Analysis for something \n"
   ]
  },
  {
   "cell_type": "markdown",
   "id": "4c460bc3-c37a-4008-8dd8-008e9a289780",
   "metadata": {},
   "source": [
    "Questions:\n",
    "* first \n",
    "* second\n",
    "\n",
    "\n"
   ]
  },
  {
   "cell_type": "code",
   "execution_count": 3,
   "id": "dfad9a78-e5e9-41e8-befd-f96408feed97",
   "metadata": {},
   "outputs": [],
   "source": [
    "import csv \n",
    "import matplotlib.pyplot as plt\n"
   ]
  },
  {
   "cell_type": "code",
   "execution_count": 5,
   "id": "36d44ad6-1a13-4757-8e6e-a40ec916bc24",
   "metadata": {},
   "outputs": [
    {
     "name": "stdout",
     "output_type": "stream",
     "text": [
      "265\n"
     ]
    },
    {
     "data": {
      "text/plain": [
       "{'\\ufeff\"Country Code\"': 'ABW',\n",
       " 'Region': 'Latin America & Caribbean',\n",
       " 'IncomeGroup': 'High income',\n",
       " 'SpecialNotes': '',\n",
       " 'TableName': 'Aruba',\n",
       " '': ''}"
      ]
     },
     "execution_count": 5,
     "metadata": {},
     "output_type": "execute_result"
    }
   ],
   "source": [
    "with open ('data/dataset.csv', 'r', encoding='utf-8') as csvfile:\n",
    "    reader = csv.DictReader(csvfile)\n",
    "    data = [row for row in reader]\n",
    "    csvfile.close()\n",
    "print(len(data))\n",
    "data[0]"
   ]
  },
  {
   "cell_type": "code",
   "execution_count": null,
   "id": "d4fa8beb-d1c2-4738-a52f-5ecc27991abe",
   "metadata": {},
   "outputs": [],
   "source": []
  },
  {
   "cell_type": "code",
   "execution_count": null,
   "id": "6d6139d8-fb02-4eac-a73a-6251784c9c97",
   "metadata": {},
   "outputs": [],
   "source": []
  }
 ],
 "metadata": {
  "kernelspec": {
   "display_name": "Python 3 (ipykernel)",
   "language": "python",
   "name": "python3"
  },
  "language_info": {
   "codemirror_mode": {
    "name": "ipython",
    "version": 3
   },
   "file_extension": ".py",
   "mimetype": "text/x-python",
   "name": "python",
   "nbconvert_exporter": "python",
   "pygments_lexer": "ipython3",
   "version": "3.10.0"
  }
 },
 "nbformat": 4,
 "nbformat_minor": 5
}
