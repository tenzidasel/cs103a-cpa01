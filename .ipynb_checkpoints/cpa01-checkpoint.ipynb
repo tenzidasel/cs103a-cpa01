{
 "cells": [
  {
   "cell_type": "markdown",
   "id": "71014c4e-871c-42db-8c51-36a7bb9216ae",
   "metadata": {},
   "source": [
    "# Analysis of substance abuse among differnt age groups and states.\n"
   ]
  },
  {
   "cell_type": "markdown",
   "id": "d5d3cc2f-c627-4ce1-aa1b-2b1e988b6c33",
   "metadata": {},
   "source": [
    "This dataset is about substance abuse (cigarettes, marijuana, cocaine, alcohol) among different age groups and states. Data was collected from individual states as part of the NSDUH study. The data ranges from 2002 to 2018. Both totals (in thousands of people) and rates (as a percentage of the population) are given.\n"
   ]
  },
  {
   "cell_type": "markdown",
   "id": "dbae7db7-446a-4b5f-87d6-5f7c91327a28",
   "metadata": {},
   "source": [
    "# Data Information:\n",
    "Link: https://corgis-edu.github.io/corgis/csv/drugs/ \n",
    "How to Download: download it as a cvs file and add it to the same folder. "
   ]
  },
  {
   "cell_type": "markdown",
   "id": "4c460bc3-c37a-4008-8dd8-008e9a289780",
   "metadata": {},
   "source": [
    "# Questions:\n",
    "1.  Is there a correlation between the rate of use of marijuana over the years and the rate of alcohol related disorders for people aged 18-25 between 2002 and 2018?\n",
    "2. Which states have the highest rate of tabacco use among children aged 12-17 between 2002 and 2018? \n"
   ]
  },
  {
   "cell_type": "code",
   "execution_count": null,
   "id": "85ea1b82-7201-42f6-a950-533b35af8d4b",
   "metadata": {},
   "outputs": [],
   "source": [
    "import numpy as np\n",
    "import pandas as pd\n",
    "import matplotlib.pyplot as plt"
   ]
  },
  {
   "cell_type": "code",
   "execution_count": null,
   "id": "0489efa4-e6e1-4d0e-8b15-5b51cc714b30",
   "metadata": {},
   "outputs": [],
   "source": [
    "df = pd.read_csv('data/drugs.csv')"
   ]
  },
  {
   "cell_type": "code",
   "execution_count": null,
   "id": "c57c7a69-455d-4497-8680-7a862ed99bd9",
   "metadata": {},
   "outputs": [],
   "source": [
    "df.head()"
   ]
  },
  {
   "cell_type": "code",
   "execution_count": null,
   "id": "ede13609-e7fb-47ef-b9de-a0a11d035945",
   "metadata": {
    "tags": []
   },
   "outputs": [],
   "source": [
    "df.describe()"
   ]
  },
  {
   "cell_type": "markdown",
   "id": "d2a0a7e9-fb73-4fa4-8dfd-c29d10036d1d",
   "metadata": {
    "tags": []
   },
   "source": [
    "# 1. \n",
    "Is there a correlation between the rate of use of marijuana over the years and the rate of alcohol related disorders for people aged 18-25 between 2002 and 2018? "
   ]
  },
  {
   "cell_type": "code",
   "execution_count": null,
   "id": "55e38bb0-784e-49b4-adc7-a69b201794d7",
   "metadata": {},
   "outputs": [],
   "source": [
    "plt.scatter(x= 'Year', y= 'Rates.Marijuana.Used Past Year.18-25', data=df, c='g')\n",
    "plt.scatter(x= 'Year', y= 'Rates.Alcohol.Use Disorder Past Year.18-25', data=df,)\n",
    "plt.legend(['Rates.Marijuana.Used Past Year.18-25', 'Rates.Alcohol.Use Disorder Past Year.18-25'], title= 'Scatter Plot')\n"
   ]
  },
  {
   "cell_type": "markdown",
   "id": "20f52ed8-6bcf-477a-850f-a79ff37be77a",
   "metadata": {
    "tags": []
   },
   "source": [
    "# Analysis \n",
    "The scatter plot shows that over the years, the rate of marijuna use has been increasing while the alcohol use disroder rate has been decreasing.  "
   ]
  },
  {
   "cell_type": "markdown",
   "id": "8e622a9f-4a59-4eca-8bfb-c5f8e2e06a14",
   "metadata": {},
   "source": [
    "# 2.\n",
    "Which states have the highest rate of tabacco use among children aged 12-17 between 2002 and 2018? "
   ]
  },
  {
   "cell_type": "code",
   "execution_count": null,
   "id": "647c0852-f888-4c1c-b8a9-8a514f15a897",
   "metadata": {},
   "outputs": [],
   "source": [
    "data = df.groupby(df['State'])\n",
    "data = data ['Totals.Tobacco.Use Past Month.12-17'].agg(sum)\n",
    "data = data.sort_values(ascending = False)\n",
    "data= data.head(5)\n",
    "plot = bar.plot.bar(figsize=(10,10))\n",
    "\n",
    "plt.xlabel('State')\n",
    "plt.ylabel('Totals.Tobacco.Use Past Month.12-17')\n",
    "plt.legend()"
   ]
  },
  {
   "cell_type": "markdown",
   "id": "f5017f70-5ed4-4b5c-9470-36d3ca02b6df",
   "metadata": {},
   "source": [
    "# Analysis : \n",
    "California is the state with the highest number of children with tobacco use "
   ]
  },
  {
   "cell_type": "markdown",
   "id": "b26c3591-62fd-4ffb-91b0-e860b72cf71d",
   "metadata": {},
   "source": [
    "# Pivot table and plot\n"
   ]
  },
  {
   "cell_type": "code",
   "execution_count": null,
   "id": "36d44ad6-1a13-4757-8e6e-a40ec916bc24",
   "metadata": {},
   "outputs": [],
   "source": [
    "df2 = pd.pivot_table(df, values =\"Rates.Marijuana.Used Past Year.18-25\", index= [\"Year\"], columns=[\"State\"])\n",
    "df2"
   ]
  },
  {
   "cell_type": "code",
   "execution_count": null,
   "id": "eab5dced-3f78-4c69-9043-51ce6469b17e",
   "metadata": {
    "tags": []
   },
   "outputs": [],
   "source": [
    "list (df2.index)"
   ]
  },
  {
   "cell_type": "code",
   "execution_count": null,
   "id": "98734dcc-44aa-4cdd-9493-b46ae6fd9a31",
   "metadata": {},
   "outputs": [],
   "source": [
    "list(df2.columns)"
   ]
  },
  {
   "cell_type": "code",
   "execution_count": null,
   "id": "d4fa8beb-d1c2-4738-a52f-5ecc27991abe",
   "metadata": {},
   "outputs": [],
   "source": [
    "line= df2.plot(figsize=(15,10))\n",
    "plt.xlabel('year')\n",
    "plt.ylabel('Rates.Marijuana.Used Past Year.18-25')\n",
    "plt.grid()"
   ]
  }
 ],
 "metadata": {
  "kernelspec": {
   "display_name": "Python 3 (ipykernel)",
   "language": "python",
   "name": "python3"
  },
  "language_info": {
   "codemirror_mode": {
    "name": "ipython",
    "version": 3
   },
   "file_extension": ".py",
   "mimetype": "text/x-python",
   "name": "python",
   "nbconvert_exporter": "python",
   "pygments_lexer": "ipython3",
   "version": "3.10.0"
  }
 },
 "nbformat": 4,
 "nbformat_minor": 5
}
